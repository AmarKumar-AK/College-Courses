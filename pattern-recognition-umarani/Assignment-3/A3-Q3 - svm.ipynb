{
 "cells": [
  {
   "cell_type": "code",
   "execution_count": 1,
   "metadata": {},
   "outputs": [],
   "source": [
    "def non_zero_avg(img):\n",
    "    t_sum = 0\n",
    "    count = 0\n",
    "    for each in img:\n",
    "        for every in each:\n",
    "            if every>0:\n",
    "                t_sum += every\n",
    "                count +=1\n",
    "    print(t_sum/count)\n",
    "    return t_sum/count\n",
    "    \n",
    "    "
   ]
  },
  {
   "cell_type": "code",
   "execution_count": 2,
   "metadata": {},
   "outputs": [],
   "source": [
    "import numpy as np\n",
    "import cv2\n",
    "def sum_line(img):\n",
    "    sum= []\n",
    "    for i in range(0,30):\n",
    "        sum.append(np.sum(img[i]))\n",
    "    return max(sum)"
   ]
  },
  {
   "cell_type": "code",
   "execution_count": 3,
   "metadata": {},
   "outputs": [
    {
     "name": "stdout",
     "output_type": "stream",
     "text": [
      "166.48026589115082\n",
      "166.41053299492387\n",
      "149.0\n",
      "57.75784753363229\n",
      "58.12428571428571\n",
      "149.0\n",
      "139.5683264694871\n",
      "76.0\n",
      "41.0985824742268\n",
      "40.50646950092421\n",
      "40.76\n",
      "84.71828481889953\n",
      "40.66195590729225\n",
      "76.0\n"
     ]
    },
    {
     "data": {
      "text/plain": [
       "<matplotlib.collections.PathCollection at 0x1edf0cf4ee0>"
      ]
     },
     "execution_count": 3,
     "metadata": {},
     "output_type": "execute_result"
    },
    {
     "data": {
      "image/png": "[encoded data removed]",
      "text/plain": [
       "<Figure size 432x288 with 1 Axes>"
      ]
     },
     "metadata": {
      "needs_background": "light"
     },
     "output_type": "display_data"
    }
   ],
   "source": [
    "\n",
    "import matplotlib.pyplot as plt\n",
    "feat_mat = [[0,0],[1,0],[0,1],[1,1]]\n",
    "y = [[0],[0],[0],[0],[0],[0],[0],[1],[1],[1],[1],[1],[1],[1]]\n",
    "R= []\n",
    "name_list = [\"poly1.png\",\"poly2.png\",\"poly3.png\",\"poly4.png\",\"poly5.png\",\"poly6.png\",\"poly7.png\",\"poly8.png\",\"poly9.png\",\"poly10.png\",\"poly11.png\",\"poly12.png\",\"poly13.png\",\"poly14.png\",]\n",
    "for each in name_list:\n",
    "    pth = \"images/\"+each\n",
    "    img=cv2.imread(pth,0)\n",
    "    for each in img:\n",
    "        for i,every in enumerate(each):\n",
    "            if every==255:\n",
    "                each[i]=0\n",
    "    R.append([sum_line(img),non_zero_avg(img)])\n",
    "R_2= np.array(R)\n",
    "\n",
    "plt.scatter(R_2[:7,0],R_2[:7,1],color=\"red\")\n",
    "plt.scatter(R_2[7:,0],R_2[7:,1],color=\"blue\")\n"
   ]
  },
  {
   "cell_type": "code",
   "execution_count": 4,
   "metadata": {},
   "outputs": [],
   "source": [
    "X=R_2\n",
    "y=np.array(y)"
   ]
  },
  {
   "cell_type": "code",
   "execution_count": 5,
   "metadata": {},
   "outputs": [],
   "source": [
    "X=np.append(np.ones(y.shape),X,1)\n",
    "for i in range(0,y.shape[0]):\n",
    "    if(y[i][0])==0:\n",
    "        X[i][0]=X[i][0]*-1\n",
    "        X[i][1]=X[i][1]*-1\n",
    "        X[i][2]*=-1"
   ]
  },
  {
   "cell_type": "code",
   "execution_count": 6,
   "metadata": {
    "scrolled": false
   },
   "outputs": [
    {
     "name": "stdout",
     "output_type": "stream",
     "text": [
      "[[-1.00000000e+00 -2.67700000e+03 -1.66480266e+02]\n",
      " [-1.00000000e+00 -5.09100000e+03 -1.66410533e+02]\n",
      " [-1.00000000e+00 -1.04300000e+03 -1.49000000e+02]\n",
      " [-1.00000000e+00 -4.02000000e+02 -5.77578475e+01]\n",
      " [-1.00000000e+00 -6.35000000e+02 -5.81242857e+01]\n",
      " [-1.00000000e+00 -1.63900000e+03 -1.49000000e+02]\n",
      " [-1.00000000e+00 -2.32900000e+03 -1.39568326e+02]\n",
      " [ 1.00000000e+00  1.29200000e+04  7.60000000e+01]\n",
      " [ 1.00000000e+00  6.97000000e+03  4.10985825e+01]\n",
      " [ 1.00000000e+00  2.33900000e+03  4.05064695e+01]\n",
      " [ 1.00000000e+00  4.55200000e+03  4.07600000e+01]\n",
      " [ 1.00000000e+00  7.46640000e+04  8.47182848e+01]\n",
      " [ 1.00000000e+00  7.66700000e+03  4.06619559e+01]\n",
      " [ 1.00000000e+00  1.42120000e+04  7.60000000e+01]]\n"
     ]
    },
    {
     "data": {
      "image/png": "[encoded data removed]",
      "text/plain": [
       "<Figure size 432x288 with 1 Axes>"
      ]
     },
     "metadata": {
      "needs_background": "light"
     },
     "output_type": "display_data"
    }
   ],
   "source": [
    "plt.scatter(X[:,0],X[:,1])\n",
    "print(X)"
   ]
  },
  {
   "cell_type": "code",
   "execution_count": 7,
   "metadata": {
    "scrolled": false
   },
   "outputs": [
    {
     "name": "stdout",
     "output_type": "stream",
     "text": [
      "1.3148055661461004 [ 211.15772854 -160.59996548] [[ 211.15772854 -160.59996548]]\n"
     ]
    },
    {
     "name": "stderr",
     "output_type": "stream",
     "text": [
      "c:\\users\\jason\\appdata\\local\\programs\\python\\python38\\lib\\site-packages\\sklearn\\utils\\validation.py:73: DataConversionWarning: A column-vector y was passed when a 1d array was expected. Please change the shape of y to (n_samples, ), for example using ravel().\n",
      "  return f(**kwargs)\n"
     ]
    },
    {
     "data": {
      "text/plain": [
       "<matplotlib.collections.PathCollection at 0x1edf7ff9760>"
      ]
     },
     "execution_count": 7,
     "metadata": {},
     "output_type": "execute_result"
    },
    {
     "data": {
      "image/png": "[encoded data removed]",
      "text/plain": [
       "<Figure size 432x288 with 1 Axes>"
      ]
     },
     "metadata": {
      "needs_background": "light"
     },
     "output_type": "display_data"
    }
   ],
   "source": [
    "from sklearn.linear_model import SGDClassifier\n",
    "import math\n",
    "clf = SGDClassifier(loss = \"hinge\" , penalty =\"l2\",max_iter = 10000)\n",
    "tmp=np.array(R)\n",
    "tmp[:,0] = tmp[:,0]**0.5\n",
    "clf.fit(tmp,y)\n",
    "W = clf.coef_\n",
    "w = clf.coef_[0]\n",
    "a = -w[0] / w[1]\n",
    "print(a,w,W)\n",
    "xx = np.linspace(0,100)\n",
    "yy = a * xx - (clf.intercept_[0]) / w[1]\n",
    "plt.figure()\n",
    "plt.plot(xx, yy, 'k-')\n",
    "plt.scatter(tmp[:7,0],tmp[:7,1],color=\"red\")\n",
    "plt.scatter(tmp[7:,0],tmp[7:,1],color=\"blue\")"
   ]
  }
 ],
 "metadata": {
  "kernelspec": {
   "display_name": "Python 3",
   "language": "python",
   "name": "python3"
  },
  "language_info": {
   "codemirror_mode": {
    "name": "ipython",
    "version": 3
   },
   "file_extension": ".py",
   "mimetype": "text/x-python",
   "name": "python",
   "nbconvert_exporter": "python",
   "pygments_lexer": "ipython3",
   "version": "3.8.0"
  }
 },
 "nbformat": 4,
 "nbformat_minor": 4
}
