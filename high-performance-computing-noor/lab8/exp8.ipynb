{
  "nbformat": 4,
  "nbformat_minor": 0,
  "metadata": {
    "colab": {
      "name": "exp8.ipynb",
      "provenance": [],
      "collapsed_sections": []
    },
    "kernelspec": {
      "name": "python3",
      "display_name": "Python 3"
    },
    "accelerator": "GPU"
  },
  "cells": [
    {
      "cell_type": "markdown",
      "metadata": {
        "id": "8khSzfxUy4db"
      },
      "source": [
        "CUDA: 1) Matrix Addition  2) Matrix multiplication column major order 3) Matrix Multiplication Block based approach. Use input as a larger double number (64-bit). Run experiment for Threads = {1,2,4,8,16,32,64,128,256,500} Estimate the parallelization fraction"
      ]
    },
    {
      "cell_type": "code",
      "metadata": {
        "id": "HVtrTvcDOJkX",
        "outputId": "4b107f5a-cca1-408d-cd68-224adf8ae6bc",
        "colab": {
          "base_uri": "https://localhost:8080/"
        }
      },
      "source": [
        "!pip install git+git://github.com/andreinechaev/nvcc4jupyter.git"
      ],
      "execution_count": null,
      "outputs": [
        {
          "output_type": "stream",
          "text": [
            "Collecting git+git://github.com/andreinechaev/nvcc4jupyter.git\n",
            "  Cloning git://github.com/andreinechaev/nvcc4jupyter.git to /tmp/pip-req-build-ai9armr2\n",
            "  Running command git clone -q git://github.com/andreinechaev/nvcc4jupyter.git /tmp/pip-req-build-ai9armr2\n",
            "Building wheels for collected packages: NVCCPlugin\n",
            "  Building wheel for NVCCPlugin (setup.py) ... \u001b[?25l\u001b[?25hdone\n",
            "  Created wheel for NVCCPlugin: filename=NVCCPlugin-0.0.2-cp36-none-any.whl size=4307 sha256=340aa1034f704b7a96d5d0534a122113adec4229b735481857c31e87838bb276\n",
            "  Stored in directory: /tmp/pip-ephem-wheel-cache-vm2qy76t/wheels/10/c2/05/ca241da37bff77d60d31a9174f988109c61ba989e4d4650516\n",
            "Successfully built NVCCPlugin\n",
            "Installing collected packages: NVCCPlugin\n",
            "Successfully installed NVCCPlugin-0.0.2\n"
          ],
          "name": "stdout"
        }
      ]
    },
    {
      "cell_type": "code",
      "metadata": {
        "id": "LCAC1sHdOXqo",
        "outputId": "9379753b-bfcb-4429-859e-3e79bcd5562c",
        "colab": {
          "base_uri": "https://localhost:8080/"
        }
      },
      "source": [
        "%load_ext nvcc_plugin"
      ],
      "execution_count": null,
      "outputs": [
        {
          "output_type": "stream",
          "text": [
            "created output directory at /content/src\n",
            "Out bin /content/result.out\n"
          ],
          "name": "stdout"
        }
      ]
    },
    {
      "cell_type": "code",
      "metadata": {
        "id": "nOftaCZZQvC-",
        "outputId": "91b0f2b7-1cda-4cb9-f084-9bd84487e58b",
        "colab": {
          "base_uri": "https://localhost:8080/"
        }
      },
      "source": [
        "%%cu\n",
        "#include <stdio.h>\n",
        "#include <stdlib.h>\n",
        "#include <math.h>\n",
        "#include<bits/stdc++.h>\n",
        "#include<chrono> \n",
        "using namespace std::chrono; \n",
        "using namespace std;\n",
        "__global__ void Mat_add(double A[], double B[], double C[],int N,int th) {\n",
        "   int id = threadIdx.x;\n",
        "   for(int i=id ; i<N*N ; i+=th){\n",
        "       C[i] = A[i] + B[i];\n",
        "   }\n",
        "}\n",
        "\n",
        "int main(int argc, char* argv[]) {\n",
        "   double *A, *B, *C;\n",
        "   double *d_A, *d_B, *d_C;\n",
        "   int N=10000;\n",
        "   size_t size = N*N*sizeof(double);\n",
        "\n",
        "   A = (double *) malloc(size);\n",
        "   B = (double *) malloc(size);\n",
        "   C = (double *) malloc(size);\n",
        " \n",
        "   cudaMalloc(&d_A, size);\n",
        "   cudaMalloc(&d_B, size);\n",
        "   cudaMalloc(&d_C, size);\n",
        "   int i,j;\n",
        "    for (i=0; i<N; ++i){\n",
        "       for(j=0 ; j<N ; ++j){\n",
        "            A[i*N+j] = rand()%100000 + (1.0/(rand()%1000));\n",
        "            B[i*N+j] = rand()%100000 + (1.0/(rand()%1000));\n",
        "       }\n",
        "   }\n",
        "\n",
        "   /* Copy matrices from host memory to device memory */\n",
        "   cudaMemcpy(d_A, A, size, cudaMemcpyHostToDevice);\n",
        "   cudaMemcpy(d_B, B, size, cudaMemcpyHostToDevice);\n",
        "\n",
        "    int tt[10] = {1,2,4,8,16,32,64,128,256,500};\n",
        "    for(int t=0 ; t<10 ; ++t){\n",
        "         auto start = high_resolution_clock::now();\n",
        "         Mat_add<<<1, tt[t]>>>(d_A, d_B, d_C,N, tt[t]);\n",
        "          auto stop = high_resolution_clock::now(); \n",
        "        auto duration = duration_cast<microseconds>(stop - start); \n",
        "    // cout << \"Time taken by function: \"<< duration.count() << \" microseconds\" << endl; \n",
        "        cout <<duration.count()<<endl;\n",
        "    }\n",
        "\n",
        "   /* Wait for the kernel to complete */\n",
        "   cudaThreadSynchronize();\n",
        "   cudaMemcpy(C, d_C, size, cudaMemcpyDeviceToHost);\n",
        "\n",
        "    /*for (int i=0; i<N; ++i){\n",
        "       for(int j=0 ; j<N ; ++j){\n",
        "           cout<<A[i*N + j]<<\" + \"<<B[i*N + j]<<\" = \"<<C[i*N + j]<<endl;\n",
        "       }\n",
        "   }*/\n",
        "   cudaFree(d_A); cudaFree(d_B); cudaFree(d_C);\n",
        "   free(A); free(B); free(C);\n",
        "\n",
        "   return 0;\n",
        "}"
      ],
      "execution_count": null,
      "outputs": [
        {
          "output_type": "stream",
          "text": [
            "36\n",
            "9\n",
            "5\n",
            "5\n",
            "5\n",
            "4\n",
            "4\n",
            "5\n",
            "5\n",
            "5\n",
            "\n"
          ],
          "name": "stdout"
        }
      ]
    },
    {
      "cell_type": "code",
      "metadata": {
        "id": "NvxKloIA3ueU",
        "outputId": "73137b57-9618-408c-8cc4-fff410ac86d2",
        "colab": {
          "base_uri": "https://localhost:8080/"
        }
      },
      "source": [
        "%%cu\n",
        "#include <stdio.h>\n",
        "#include <stdlib.h>\n",
        "#include <math.h>\n",
        "#include<bits/stdc++.h>\n",
        "#include<chrono> \n",
        "#define N 1000\n",
        "using namespace std::chrono; \n",
        "using namespace std;\n",
        "__global__ void Mat_mul(double A[], double B[], double C[],int th) {\n",
        "   int idx = threadIdx.x;\n",
        "   \n",
        "   for(int i = idx ; i<N*N ; i+=th){\n",
        "       int temp=0;\n",
        "       int y = i%N;\n",
        "       int x = i/N;\n",
        "       for(int k=0 ; k<N ; k++){\n",
        "          temp += A[x*N+k] * B[k*N+y];\n",
        "       }\n",
        "       C[x*N+y] = temp;\n",
        "   }\n",
        "}\n",
        "\n",
        "int main(int argc, char* argv[]) {\n",
        "   double *A, *B, *C;\n",
        "   double *d_A, *d_B, *d_C;\n",
        "   //int N=4;\n",
        "   size_t size = N*N*sizeof(double);\n",
        "\n",
        "   A = (double *) malloc(size);\n",
        "   B = (double *) malloc(size);\n",
        "   C = (double *) malloc(size);\n",
        " \n",
        "   cudaMalloc(&d_A, size);\n",
        "   cudaMalloc(&d_B, size);\n",
        "   cudaMalloc(&d_C, size);\n",
        "  \n",
        "    for (int i=0; i<N; ++i){\n",
        "       for(int j=0 ; j<N ; ++j){\n",
        "            A[i*N+j] = rand()%100000 + (1.0/(rand()%1000));\n",
        "            B[i*N+j] = rand()%100000 + (1.0/(rand()%1000));\n",
        "            /*A[i*N+j] = rand()%10;\n",
        "            B[i*N+j] = rand()%10;*/\n",
        "       }\n",
        "   }\n",
        "   /*cout<<\"matrix A\\n\";\n",
        "   for(int i=0 ; i<N ; ++i){\n",
        "      for(int j=0 ; j<N ; ++j){\n",
        "          cout<<A[i*N+j]<<\" \";\n",
        "      }\n",
        "      cout<<endl;\n",
        "  }\n",
        "  cout<<endl;\n",
        "cout<<\"matrix B\\n\";\n",
        "  for(int i=0 ; i<N ; ++i){\n",
        "      for(int j=0 ; j<N ; ++j){\n",
        "          cout<<B[i*N+j]<<\" \";\n",
        "      }\n",
        "      cout<<endl;\n",
        "  }\n",
        "  cout<<endl;*/\n",
        "\n",
        "   /* Copy matrices from host memory to device memory */\n",
        "   cudaMemcpy(d_A, A, size, cudaMemcpyHostToDevice);\n",
        "   cudaMemcpy(d_B, B, size, cudaMemcpyHostToDevice);\n",
        "\n",
        "    int tt[10] = {1,2,4,8,16,32,64,128,256,500};\n",
        "    for(int t=0 ; t<10 ; ++t){\n",
        "         auto start = high_resolution_clock::now();\n",
        "         Mat_mul<<<1, tt[t]>>>(d_A, d_B, d_C, tt[t]);\n",
        "          auto stop = high_resolution_clock::now(); \n",
        "        auto duration = duration_cast<microseconds>(stop - start); \n",
        "        cout << \"Time taken by function: \"<< duration.count() << \" microseconds\" << endl; \n",
        "        //cout <<duration.count()<<endl;\n",
        "    }\n",
        "\n",
        "   /* Wait for the kernel to complete */\n",
        "   //cudaThreadSynchronize();\n",
        "   cudaMemcpy(C, d_C, size, cudaMemcpyDeviceToHost);\n",
        "  \n",
        "/*cout<<\"matrix C\\n\";\n",
        "  for(int i=0 ; i<N ; ++i){\n",
        "      for(int j=0 ; j<N ; ++j){\n",
        "          cout<<C[i*N+j]<<\" \";\n",
        "      }\n",
        "      cout<<endl;\n",
        "  }*/\n",
        "   cudaFree(d_A); cudaFree(d_B); cudaFree(d_C);\n",
        "   free(A); free(B); free(C);\n",
        "\n",
        "   return 0;\n",
        "}"
      ],
      "execution_count": null,
      "outputs": [
        {
          "output_type": "stream",
          "text": [
            "Time taken by function: 27 microseconds\n",
            "Time taken by function: 9 microseconds\n",
            "Time taken by function: 4 microseconds\n",
            "Time taken by function: 5 microseconds\n",
            "Time taken by function: 5 microseconds\n",
            "Time taken by function: 5 microseconds\n",
            "Time taken by function: 4 microseconds\n",
            "Time taken by function: 4 microseconds\n",
            "Time taken by function: 4 microseconds\n",
            "Time taken by function: 5 microseconds\n",
            "\n"
          ],
          "name": "stdout"
        }
      ]
    },
    {
      "cell_type": "code",
      "metadata": {
        "id": "nnVyZNUn_SHL"
      },
      "source": [
        ""
      ],
      "execution_count": null,
      "outputs": []
    },
    {
      "cell_type": "code",
      "metadata": {
        "id": "e_lvrP4o7kYJ",
        "outputId": "f979e7d4-d7ce-42df-825b-1d98d2e09588",
        "colab": {
          "base_uri": "https://localhost:8080/"
        }
      },
      "source": [
        "%%cu\n",
        "#include <stdio.h>\n",
        "#include <stdlib.h>\n",
        "#include <math.h>\n",
        "#include<bits/stdc++.h>\n",
        "#include<chrono>\n",
        "#define N 4\n",
        "#define M 1000\n",
        "#define BLOCKSIZE 2\n",
        "using namespace std::chrono; \n",
        "using namespace std;\n",
        "__global__ void Mat_mul(double **A, double **B, double **C,int th) {\n",
        "   int idx = threadIdx.x;\n",
        "   \n",
        "   for(int i = idx ; i<N*N ; i+=th){\n",
        "       int temp=0;\n",
        "       int y = i%N;\n",
        "       int x = i/N;\n",
        "       for(int k=0 ; k<N ; k++){\n",
        "          temp += A[x][k] * B[k][y];\n",
        "       }\n",
        "       C[x][y] = temp;\n",
        "   }\n",
        "}\n",
        "\n",
        "int main(int argc, char* argv[]) {\n",
        "   //double **A, **B, **C;\n",
        "   double **d_A, **d_B, **d_C;\n",
        "   //int N=4;\n",
        "   //size_t size = N*N*sizeof(double);\n",
        "  \n",
        "\n",
        "   /*A = (double **) malloc(size);\n",
        "   B = (double **) malloc(size);\n",
        "   C = (double **) malloc(size);*/\n",
        " \n",
        "  /* cudaMalloc(&d_A, size);\n",
        "   cudaMalloc(&d_B, size);\n",
        "   cudaMalloc(&d_C, size);*/\n",
        "   \n",
        "   double **A = malloc(N*sizeof(double *)); for(int i=0; i< N; i++) A[i] = malloc(N*sizeof(double));\n",
        "    double **B = malloc(N*sizeof(double *)); for(int i=0; i< N; i++) B[i] = malloc(N*sizeof(double));\n",
        "  double **C = malloc(N*sizeof(double *)); for(int i=0; i< N; i++) C[i] = malloc(N*sizeof(double));\n",
        "\n",
        "   cudaMalloc((void**)&d_A, N * sizeof(double*)); for (int i = 0; i < N; i++) cudaMalloc((void**)&d_A[i], N * sizeof(double));\n",
        "      cudaMalloc((void**)&d_B, N * sizeof(double*)); for (int i = 0; i < N; i++) cudaMalloc((void**)&d_B[i], N * sizeof(double));\n",
        "   cudaMalloc((void**)&d_C, N * sizeof(double*)); for (int i = 0; i < N; i++) cudaMalloc((void**)&d_C[i], N * sizeof(double));\n",
        "\n",
        "    for (int i=0; i<N; ++i){\n",
        "       for(int j=0 ; j<N ; ++j){\n",
        "            /*A[i*N+j] = rand()%100000 + (1.0/(rand()%1000));\n",
        "            B[i*N+j] = rand()%100000 + (1.0/(rand()%1000));*/\n",
        "            A[i][j] = rand()%10;\n",
        "            B[i][j] = rand()%10;\n",
        "       }\n",
        "   }\n",
        "   cout<<\"matrix A\\n\";\n",
        "   for(int i=0 ; i<N ; ++i){\n",
        "      for(int j=0 ; j<N ; ++j){\n",
        "          cout<<A[i][j]<<\" \";\n",
        "      }\n",
        "      cout<<endl;\n",
        "  }\n",
        "  cout<<endl;\n",
        "cout<<\"matrix B\\n\";\n",
        "  for(int i=0 ; i<N ; ++i){\n",
        "      for(int j=0 ; j<N ; ++j){\n",
        "          cout<<B[i][j]<<\" \";\n",
        "      }\n",
        "      cout<<endl;\n",
        "  }\n",
        "  cout<<endl;\n",
        "\n",
        "   /* Copy matrices from host memory to device memory */\n",
        "   /*cudaMemcpy(d_A, A, size, cudaMemcpyHostToDevice);\n",
        "   cudaMemcpy(d_B, B, size, cudaMemcpyHostToDevice);\n",
        "\n",
        "    //int tt[10] = {1,2,4,8,16,32,64,128,256,500};\n",
        "    //for(int t=0 ; t<10 ; ++t){\n",
        "         auto start = high_resolution_clock::now();\n",
        "         Mat_mul<<<1, 2>>>(d_A, d_B, d_C, 2);\n",
        "          auto stop = high_resolution_clock::now(); \n",
        "        auto duration = duration_cast<microseconds>(stop - start); \n",
        "        cout << \"Time taken by function: \"<< duration.count() << \" microseconds\" << endl; \n",
        "        //cout <<duration.count()<<endl;\n",
        "    //}\n",
        "\n",
        "   //cudaThreadSynchronize();\n",
        "   cudaMemcpy(C, d_C, size, cudaMemcpyDeviceToHost);\n",
        "  \n",
        "cout<<\"matrix C\\n\";\n",
        "  for(int i=0 ; i<N ; ++i){\n",
        "      for(int j=0 ; j<N ; ++j){\n",
        "          cout<<C[i*N+j]<<\" \";\n",
        "      }\n",
        "      cout<<endl;\n",
        "  }*/\n",
        "   cudaFree(d_A); cudaFree(d_B); cudaFree(d_C);\n",
        "   free(A); free(B); free(C);\n",
        "\n",
        "   return 0;\n",
        "}"
      ],
      "execution_count": null,
      "outputs": [
        {
          "output_type": "stream",
          "text": [
            "/tmp/tmpd_cy9rv2/a8496fb4-cff0-476c-87c8-a2149354d870.cu(40): error: a value of type \"void *\" cannot be used to initialize an entity of type \"double **\"\n",
            "\n",
            "/tmp/tmpd_cy9rv2/a8496fb4-cff0-476c-87c8-a2149354d870.cu(40): error: a value of type \"void *\" cannot be assigned to an entity of type \"double *\"\n",
            "\n",
            "/tmp/tmpd_cy9rv2/a8496fb4-cff0-476c-87c8-a2149354d870.cu(41): error: a value of type \"void *\" cannot be used to initialize an entity of type \"double **\"\n",
            "\n",
            "/tmp/tmpd_cy9rv2/a8496fb4-cff0-476c-87c8-a2149354d870.cu(41): error: a value of type \"void *\" cannot be assigned to an entity of type \"double *\"\n",
            "\n",
            "/tmp/tmpd_cy9rv2/a8496fb4-cff0-476c-87c8-a2149354d870.cu(42): error: a value of type \"void *\" cannot be used to initialize an entity of type \"double **\"\n",
            "\n",
            "/tmp/tmpd_cy9rv2/a8496fb4-cff0-476c-87c8-a2149354d870.cu(42): error: a value of type \"void *\" cannot be assigned to an entity of type \"double *\"\n",
            "\n",
            "6 errors detected in the compilation of \"/tmp/tmpxft_00000205_00000000-8_a8496fb4-cff0-476c-87c8-a2149354d870.cpp1.ii\".\n",
            "\n"
          ],
          "name": "stdout"
        }
      ]
    },
    {
      "cell_type": "code",
      "metadata": {
        "id": "_TQBY5Vr-noD"
      },
      "source": [
        ""
      ],
      "execution_count": null,
      "outputs": []
    }
  ]
}