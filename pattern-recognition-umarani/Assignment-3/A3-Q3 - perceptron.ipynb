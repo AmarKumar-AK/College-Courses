{
 "cells": [
  {
   "cell_type": "code",
   "execution_count": 1,
   "metadata": {},
   "outputs": [],
   "source": [
    "import numpy as np\n",
    "import matplotlib.pyplot as plt\n",
    "feat_mat = [[0,0],[1,0],[0,1],[1,1]]\n",
    "y = [[0],[0],[0],[0],[0],[0],[0],[1],[1],[1],[1],[1],[1],[1]]"
   ]
  },
  {
   "cell_type": "code",
   "execution_count": null,
   "metadata": {},
   "outputs": [],
   "source": []
  },
  {
   "cell_type": "code",
   "execution_count": 2,
   "metadata": {},
   "outputs": [],
   "source": [
    "def non_zero_avg(img):\n",
    "    t_sum = 0\n",
    "    count = 0\n",
    "    for each in img:\n",
    "        for every in each:\n",
    "            if every>0:\n",
    "                t_sum += every\n",
    "                count +=1\n",
    "    return t_sum/count\n",
    "    "
   ]
  },
  {
   "cell_type": "code",
   "execution_count": 3,
   "metadata": {},
   "outputs": [],
   "source": [
    "import numpy as np\n",
    "import cv2\n",
    "def sum_line(img):\n",
    "    sum= []\n",
    "    for i in range(0,30):\n",
    "        sum.append(np.sum(img[i]))\n",
    "    return max(sum)**0.5"
   ]
  },
  {
   "cell_type": "code",
   "execution_count": 4,
   "metadata": {},
   "outputs": [
    {
     "name": "stdout",
     "output_type": "stream",
     "text": [
      "[[ 51.73973328 166.48026589]\n",
      " [ 71.35124386 166.41053299]\n",
      " [ 32.29551052 149.        ]\n",
      " [ 20.04993766  57.75784753]\n",
      " [ 25.19920634  58.12428571]\n",
      " [ 40.48456496 149.        ]\n",
      " [ 48.25971405 139.56832647]\n",
      " [113.66617791  76.        ]\n",
      " [ 83.48652586  41.09858247]\n",
      " [ 48.36320916  40.5064695 ]\n",
      " [ 67.46851117  40.76      ]\n",
      " [273.24714088  84.71828482]\n",
      " [ 87.56140702  40.66195591]\n",
      " [119.21409313  76.        ]]\n"
     ]
    },
    {
     "data": {
      "image/png": "[encoded data removed]",
      "text/plain": [
       "<Figure size 432x288 with 1 Axes>"
      ]
     },
     "metadata": {
      "needs_background": "light"
     },
     "output_type": "display_data"
    }
   ],
   "source": [
    "import matplotlib.pyplot as plt\n",
    "\n",
    "R= []\n",
    "name_list = [\"poly1.png\",\"poly2.png\",\"poly3.png\",\"poly4.png\",\"poly5.png\",\"poly6.png\",\"poly7.png\",\"poly8.png\",\"poly9.png\",\"poly10.png\",\"poly11.png\",\"poly12.png\",\"poly13.png\",\"poly14.png\",]\n",
    "for each in name_list:\n",
    "    pth = \"images/\"+each\n",
    "    img=cv2.imread(pth,0)\n",
    "    for each in img:\n",
    "        for i,every in enumerate(each):\n",
    "            if every==255:\n",
    "                each[i]=0\n",
    "    R.append([sum_line(img),non_zero_avg(img)])\n",
    "R_2= np.array(R)\n",
    "\n",
    "plt.scatter(R_2[:7,0],R_2[:7,1],color=\"red\")\n",
    "plt.scatter(R_2[7:,0],R_2[7:,1],color=\"blue\")\n",
    "print(R_2)"
   ]
  },
  {
   "cell_type": "code",
   "execution_count": null,
   "metadata": {
    "scrolled": true
   },
   "outputs": [],
   "source": []
  },
  {
   "cell_type": "code",
   "execution_count": 5,
   "metadata": {},
   "outputs": [],
   "source": [
    "X=R_2\n",
    "y = np.array(y)\n",
    "X=np.append(np.ones(y.shape),X,1)\n",
    "for i in range(0,y.shape[0]):\n",
    "    if(y[i][0])==0:\n",
    "        X[i][0]=X[i][0]*-1\n",
    "        X[i][1]=X[i][1]*-1\n",
    "        X[i][2]*=-1"
   ]
  },
  {
   "cell_type": "code",
   "execution_count": 6,
   "metadata": {
    "scrolled": false
   },
   "outputs": [
    {
     "name": "stdout",
     "output_type": "stream",
     "text": [
      "[[  -1.          -51.73973328 -166.48026589]\n",
      " [  -1.          -71.35124386 -166.41053299]\n",
      " [  -1.          -32.29551052 -149.        ]\n",
      " [  -1.          -20.04993766  -57.75784753]\n",
      " [  -1.          -25.19920634  -58.12428571]\n",
      " [  -1.          -40.48456496 -149.        ]\n",
      " [  -1.          -48.25971405 -139.56832647]\n",
      " [   1.          113.66617791   76.        ]\n",
      " [   1.           83.48652586   41.09858247]\n",
      " [   1.           48.36320916   40.5064695 ]\n",
      " [   1.           67.46851117   40.76      ]\n",
      " [   1.          273.24714088   84.71828482]\n",
      " [   1.           87.56140702   40.66195591]\n",
      " [   1.          119.21409313   76.        ]]\n"
     ]
    },
    {
     "data": {
      "image/png": "[encoded data removed]",
      "text/plain": [
       "<Figure size 432x288 with 1 Axes>"
      ]
     },
     "metadata": {
      "needs_background": "light"
     },
     "output_type": "display_data"
    }
   ],
   "source": [
    "plt.scatter(X[:,0],X[:,1])\n",
    "print(X)"
   ]
  },
  {
   "cell_type": "code",
   "execution_count": 7,
   "metadata": {},
   "outputs": [],
   "source": [
    "def plotter(W):\n",
    "    if W[2][0] == 0 :\n",
    "        print(\"0 Division attempted skipping iteration\")\n",
    "        return\n",
    "    x_var = np.linspace(0,200,100)\n",
    "    y_pts= (-W[0][0] - W[1][0]*x_var)/W[2][0]\n",
    "    plt.figure()    \n",
    "    plt.plot(x_var,y_pts)\n",
    "    X_disp=R_2\n",
    "    plt.scatter(X_disp[:7,0],X_disp[:7,1],color=\"red\")\n",
    "    plt.scatter(X_disp[7:,0],X_disp[7:,1],color=\"blue\")\n",
    "    plt.title(\"at W as \"+str(W))"
   ]
  },
  {
   "cell_type": "code",
   "execution_count": 8,
   "metadata": {},
   "outputs": [
    {
     "data": {
      "image/png": "[encoded data removed]",
      "text/plain": [
       "<Figure size 432x288 with 1 Axes>"
      ]
     },
     "metadata": {
      "needs_background": "light"
     },
     "output_type": "display_data"
    }
   ],
   "source": [
    "W = [[0],[0],[0]]\n",
    "learning_rate = 1\n",
    "theta = 0.05\n",
    "miss_class_sum = np.zeros([3,1])\n",
    "\n",
    "for l in range(0,100):\n",
    "    miss_class_sum = np.zeros([3,1])\n",
    "    missclassified = []\n",
    "    for i,each in enumerate(X) :\n",
    "        dot_prd = np.dot(each,W)\n",
    "        if dot_prd <= 0 :\n",
    "            missclassified.append(i)\n",
    "    if len(missclassified)==0 :\n",
    "        break\n",
    "    for each in missclassified:\n",
    "        a=X[each,:]\n",
    "        for i in range(0,len(a)):\n",
    "            miss_class_sum[i] = miss_class_sum[i] + a[i]\n",
    "    criterion = learning_rate * miss_class_sum\n",
    "    W = W + criterion\n",
    "    plotter(W)\n"
   ]
  },
  {
   "cell_type": "code",
   "execution_count": null,
   "metadata": {},
   "outputs": [],
   "source": []
  }
 ],
 "metadata": {
  "kernelspec": {
   "display_name": "Python 3",
   "language": "python",
   "name": "python3"
  },
  "language_info": {
   "codemirror_mode": {
    "name": "ipython",
    "version": 3
   },
   "file_extension": ".py",
   "mimetype": "text/x-python",
   "name": "python",
   "nbconvert_exporter": "python",
   "pygments_lexer": "ipython3",
   "version": "3.8.0"
  }
 },
 "nbformat": 4,
 "nbformat_minor": 4
}
