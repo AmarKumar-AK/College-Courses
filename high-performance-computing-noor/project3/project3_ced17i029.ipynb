{
  "nbformat": 4,
  "nbformat_minor": 0,
  "metadata": {
    "colab": {
      "name": "project3_ced17i029.ipynb",
      "provenance": [],
      "collapsed_sections": []
    },
    "kernelspec": {
      "name": "python3",
      "display_name": "Python 3"
    },
    "accelerator": "GPU"
  },
  "cells": [
    {
      "cell_type": "code",
      "metadata": {
        "colab": {
          "base_uri": "https://localhost:8080/"
        },
        "id": "6Lc24h3jOARp",
        "outputId": "3f34e624-8686-476f-db74-7fe7462f206a"
      },
      "source": [
        "from google.colab import drive\n",
        "drive.mount('/content/drive')"
      ],
      "execution_count": null,
      "outputs": [
        {
          "output_type": "stream",
          "text": [
            "Drive already mounted at /content/drive; to attempt to forcibly remount, call drive.mount(\"/content/drive\", force_remount=True).\n"
          ],
          "name": "stdout"
        }
      ]
    },
    {
      "cell_type": "code",
      "metadata": {
        "colab": {
          "base_uri": "https://localhost:8080/"
        },
        "id": "jxE-N1RNOagg",
        "outputId": "c81f4439-4548-436a-b7ec-5070500f67a0"
      },
      "source": [
        "with open('/content/drive/My Drive/data.txt', 'r') as f:\n",
        "  print(\"file opened\")"
      ],
      "execution_count": null,
      "outputs": [
        {
          "output_type": "stream",
          "text": [
            "file opened\n"
          ],
          "name": "stdout"
        }
      ]
    },
    {
      "cell_type": "code",
      "metadata": {
        "id": "HVtrTvcDOJkX",
        "colab": {
          "base_uri": "https://localhost:8080/",
          "height": 0
        },
        "outputId": "d70a50e5-8add-4b08-a2d4-50d14b3e0d3d"
      },
      "source": [
        "!pip install git+git://github.com/andreinechaev/nvcc4jupyter.git"
      ],
      "execution_count": 2,
      "outputs": [
        {
          "output_type": "stream",
          "text": [
            "Collecting git+git://github.com/andreinechaev/nvcc4jupyter.git\n",
            "  Cloning git://github.com/andreinechaev/nvcc4jupyter.git to /tmp/pip-req-build-uqk41vm2\n",
            "  Running command git clone -q git://github.com/andreinechaev/nvcc4jupyter.git /tmp/pip-req-build-uqk41vm2\n",
            "Building wheels for collected packages: NVCCPlugin\n",
            "  Building wheel for NVCCPlugin (setup.py) ... \u001b[?25l\u001b[?25hdone\n",
            "  Created wheel for NVCCPlugin: filename=NVCCPlugin-0.0.2-cp36-none-any.whl size=4307 sha256=9aad192ec33cb5d4891e3ec9c638ba18b36d85917bf86438e0ee56e4b0d63540\n",
            "  Stored in directory: /tmp/pip-ephem-wheel-cache-2y7qi78d/wheels/10/c2/05/ca241da37bff77d60d31a9174f988109c61ba989e4d4650516\n",
            "Successfully built NVCCPlugin\n",
            "Installing collected packages: NVCCPlugin\n",
            "Successfully installed NVCCPlugin-0.0.2\n"
          ],
          "name": "stdout"
        }
      ]
    },
    {
      "cell_type": "code",
      "metadata": {
        "id": "LCAC1sHdOXqo",
        "colab": {
          "base_uri": "https://localhost:8080/",
          "height": 0
        },
        "outputId": "826f6669-f858-4fdf-87bc-3c34dba07c90"
      },
      "source": [
        "%load_ext nvcc_plugin"
      ],
      "execution_count": 3,
      "outputs": [
        {
          "output_type": "stream",
          "text": [
            "created output directory at /content/src\n",
            "Out bin /content/result.out\n"
          ],
          "name": "stdout"
        }
      ]
    },
    {
      "cell_type": "code",
      "metadata": {
        "id": "0ucqdtAiOjKL",
        "colab": {
          "base_uri": "https://localhost:8080/"
        },
        "outputId": "3b88f05b-4cd4-47e3-da10-52e31c82741d"
      },
      "source": [
        "%%cu \n",
        "#include<bits/stdc++.h>\n",
        "using namespace std;\n",
        "int main() {\n",
        "    cout<<\"Hello This is Amar Kumar - CED17I029\"<<endl;\n",
        "    return 0;\n",
        "}"
      ],
      "execution_count": null,
      "outputs": [
        {
          "output_type": "stream",
          "text": [
            "Hello This is Amar Kumar - CED17I029\n",
            "\n"
          ],
          "name": "stdout"
        }
      ]
    },
    {
      "cell_type": "code",
      "metadata": {
        "id": "nOftaCZZQvC-",
        "colab": {
          "base_uri": "https://localhost:8080/",
          "height": 0
        },
        "outputId": "5659180b-a400-4999-aa4e-df2385b10fe9"
      },
      "source": [
        "%%cu\n",
        "#include<bits/stdc++.h>\n",
        "#include<chrono> \n",
        "using namespace std::chrono; \n",
        "using namespace std;\n",
        "\n",
        "const int num_data_points = 1000;\n",
        "const int num_pizza_center = 10;\n",
        "const int num_iteration = 1000;\n",
        "\n",
        "__global__ void calculateDistance(float *x1, float *y1, float x2, float y2, float *res, int th){\n",
        "    int id = threadIdx.x;\n",
        "    for(int i=id ; i<num_pizza_center ; i+=th){\n",
        "        res[i] = (x2-x1[i])*(x2-x1[i]) + (y2-y1[i])*(y2-y1[i]);\n",
        "    }\n",
        "}\n",
        "int main( int argc, char* argv[] ){\n",
        "    float *x,*y, *kx, *ky;\n",
        "    float *dist;\n",
        "    float *d_x,*d_y, *d_kx, *d_ky;\n",
        "    float *d_dist;\n",
        "\n",
        "    //# defining size for various data\n",
        "    size_t dpsize = num_data_points*sizeof(float);\n",
        "    size_t pcsize = num_pizza_center*sizeof(float);\n",
        "\n",
        "    //# allocating host memory\n",
        "    x = (float*)malloc(dpsize);\n",
        "    y = (float*)malloc(dpsize);\n",
        "    kx = (float*)malloc(pcsize);\n",
        "    ky = (float*)malloc(pcsize);\n",
        "    dist = (float*)malloc(pcsize);\n",
        "\n",
        "    //# allocating cuda(device) memory\n",
        "    cudaMalloc(&d_x, dpsize);\n",
        "    cudaMalloc(&d_y, dpsize);\n",
        "    cudaMalloc(&d_kx, pcsize);\n",
        "    cudaMalloc(&d_ky, pcsize);\n",
        "    cudaMalloc(&d_dist, pcsize);\n",
        "    \n",
        "    // #read input from file\n",
        "    freopen(\"/content/drive/My Drive/data.txt\", \"r\", stdin);\n",
        "    for(int i=0 ; i<num_data_points ; ++i){\n",
        "        cin>>x[i]>>y[i];\n",
        "    }\n",
        "    for(int i=0 ; i<num_pizza_center ; ++i){\n",
        "        cin>>kx[i]>>ky[i];\n",
        "    }\n",
        "\n",
        "    //cout<<\"1. fine\"<<endl;\n",
        "    //# Copy host vectors to device\n",
        "    cudaMemcpy( d_x, x, dpsize, cudaMemcpyHostToDevice);\n",
        "    cudaMemcpy( d_y, y, dpsize, cudaMemcpyHostToDevice);\n",
        "    cudaMemcpy( d_kx, kx, pcsize, cudaMemcpyHostToDevice);\n",
        "    cudaMemcpy( d_ky, ky, pcsize, cudaMemcpyHostToDevice);\n",
        "\n",
        "    int tt[10] ={1,2,4,8,16,32,64,128,256,500};\n",
        "    for(int t=0 ; t<10 ; ++t){\n",
        "        auto start = high_resolution_clock::now();\n",
        "        for(int i=0 ; i<num_iteration ; ++i){\n",
        "            vector<pair<float,float>> points[num_pizza_center];\n",
        "            //# for each data point, serve it under that pizza center which is nearest to it \n",
        "            for(int j=0 ; j<num_data_points ; ++j){\n",
        "                int temp1 = x[j], temp2 = y[j];\n",
        "                //cout<<temp1<<\" , \"<<temp2<<endl;\n",
        "                calculateDistance<<<1,2>>>(d_kx, d_ky, temp1, temp2,d_dist,2);\n",
        "                cudaMemcpy( dist, d_dist, pcsize, cudaMemcpyDeviceToHost );\n",
        "                int index = distance(dist,min_element(dist,dist+num_pizza_center));\n",
        "                points[index].push_back({x[j],y[j]});\n",
        "            }\n",
        "            // # updated mean position(pizza center location)\n",
        "            for(int it1=0 ; it1<num_pizza_center ; ++it1){\n",
        "                float xavg = 0, yavg = 0;\n",
        "                for(auto x:points[it1]){\n",
        "                    xavg+=x.first;\n",
        "                    yavg+=x.second;\n",
        "                }\n",
        "                kx[it1] = xavg/points[it1].size();\n",
        "                ky[it1] = yavg/points[it1].size();\n",
        "            }\n",
        "            cudaMemcpy( d_kx, kx, pcsize, cudaMemcpyHostToDevice);\n",
        "            cudaMemcpy( d_ky, ky, pcsize, cudaMemcpyHostToDevice);\n",
        "            /*if(i==num_iteration -1){\n",
        "                cout<<\"final updted mean position\"<<endl;\n",
        "                for(int it2=0 ; it2<num_pizza_center ; ++it2){\n",
        "                    cout<<\"(\"<<kx[it2]<<\" , \"<<ky[it2]<<\")\"<<endl;\n",
        "                }\n",
        "            }*/\n",
        "            \n",
        "        }\n",
        "        auto stop = high_resolution_clock::now(); \n",
        "        auto duration = duration_cast<microseconds>(stop - start); \n",
        "        cout << \"Time taken by function: \"<< duration.count() << \" microseconds\" << endl; \n",
        "    }\n",
        " \n",
        "    //# Release device memory\n",
        "    cudaFree(d_x); cudaFree(d_y); cudaFree(d_kx); cudaFree(d_ky); cudaFree(d_dist);\n",
        "    //# Release host memory\n",
        "    free(x); free(y); free(kx); free(ky); free(dist);\n",
        " \n",
        "    return 0;\n",
        "}"
      ],
      "execution_count": 18,
      "outputs": [
        {
          "output_type": "stream",
          "text": [
            "Time taken by function: 22680218 microseconds\n",
            "Time taken by function: 22688623 microseconds\n",
            "Time taken by function: 22646035 microseconds\n",
            "Time taken by function: 22656562 microseconds\n",
            "Time taken by function: 22609342 microseconds\n",
            "Time taken by function: 22737826 microseconds\n",
            "Time taken by function: 22742092 microseconds\n",
            "Time taken by function: 22593556 microseconds\n",
            "Time taken by function: 22556165 microseconds\n",
            "Time taken by function: 22628016 microseconds\n",
            "\n"
          ],
          "name": "stdout"
        }
      ]
    },
    {
      "cell_type": "code",
      "metadata": {
        "id": "SdMJs1uiYPR-"
      },
      "source": [
        ""
      ],
      "execution_count": null,
      "outputs": []
    }
  ]
}