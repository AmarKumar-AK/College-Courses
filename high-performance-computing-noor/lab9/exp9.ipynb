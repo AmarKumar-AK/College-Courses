{
  "nbformat": 4,
  "nbformat_minor": 0,
  "metadata": {
    "colab": {
      "name": "exp9.ipynb",
      "provenance": []
    },
    "kernelspec": {
      "name": "python3",
      "display_name": "Python 3"
    },
    "accelerator": "GPU"
  },
  "cells": [
    {
      "cell_type": "code",
      "metadata": {
        "id": "HVtrTvcDOJkX",
        "outputId": "9ecf6970-9d45-4295-9ae1-27f8adc5cc3d",
        "colab": {
          "base_uri": "https://localhost:8080/"
        }
      },
      "source": [
        "!pip install git+git://github.com/andreinechaev/nvcc4jupyter.git"
      ],
      "execution_count": null,
      "outputs": [
        {
          "output_type": "stream",
          "text": [
            "Collecting git+git://github.com/andreinechaev/nvcc4jupyter.git\n",
            "  Cloning git://github.com/andreinechaev/nvcc4jupyter.git to /tmp/pip-req-build-d37hm6bb\n",
            "  Running command git clone -q git://github.com/andreinechaev/nvcc4jupyter.git /tmp/pip-req-build-d37hm6bb\n",
            "Building wheels for collected packages: NVCCPlugin\n",
            "  Building wheel for NVCCPlugin (setup.py) ... \u001b[?25l\u001b[?25hdone\n",
            "  Created wheel for NVCCPlugin: filename=NVCCPlugin-0.0.2-cp36-none-any.whl size=4307 sha256=e6d6ef606da8289db7343168a99ffde98920736b9eb28a02980edad77d71d764\n",
            "  Stored in directory: /tmp/pip-ephem-wheel-cache-ofia2bzv/wheels/10/c2/05/ca241da37bff77d60d31a9174f988109c61ba989e4d4650516\n",
            "Successfully built NVCCPlugin\n",
            "Installing collected packages: NVCCPlugin\n",
            "Successfully installed NVCCPlugin-0.0.2\n"
          ],
          "name": "stdout"
        }
      ]
    },
    {
      "cell_type": "code",
      "metadata": {
        "id": "LCAC1sHdOXqo",
        "outputId": "6238f6da-2046-4b80-80bd-626ee636529f",
        "colab": {
          "base_uri": "https://localhost:8080/"
        }
      },
      "source": [
        "%load_ext nvcc_plugin"
      ],
      "execution_count": null,
      "outputs": [
        {
          "output_type": "stream",
          "text": [
            "created output directory at /content/src\n",
            "Out bin /content/result.out\n"
          ],
          "name": "stdout"
        }
      ]
    },
    {
      "cell_type": "code",
      "metadata": {
        "id": "nOftaCZZQvC-",
        "outputId": "5734c26f-72eb-4ff2-f318-aa1b475e2120",
        "colab": {
          "base_uri": "https://localhost:8080/"
        }
      },
      "source": [
        "%%cu\n",
        "#include <stdio.h>\n",
        "#include <stdlib.h>\n",
        "#include <math.h>\n",
        "#include<bits/stdc++.h>\n",
        "#include<chrono> \n",
        "using namespace std::chrono; \n",
        "using namespace std;\n",
        "#define N 5000\n",
        "__global__ void vecAdd(double *a, double *b, double *c,int th){\n",
        "    int id = threadIdx.x;\n",
        "    __shared__ double temp[N];\n",
        "    for(int i=id ; i<N ; i+=th){\n",
        "        temp[i] = a[i] + b[i];\n",
        "    }  \n",
        "    __syncthreads(); \n",
        "    if(id==0){\n",
        "        double sum = 0;\n",
        "        for(int i=0 ; i<N ; ++i){\n",
        "            sum+=temp[i];\n",
        "        }\n",
        "        *c = sum;\n",
        "    }\n",
        "}\n",
        " \n",
        "int main( int argc, char* argv[] ){\n",
        "    double *a,*b,*c;\n",
        "    double *d_a,*d_b,*d_c;\n",
        "    size_t size = N*sizeof(double);\n",
        "\n",
        "    a = (double*)malloc(size);\n",
        "    b = (double*)malloc(size);\n",
        "    c = (double*)malloc(sizeof(double));\n",
        "\n",
        "    cudaMalloc(&d_a, size);\n",
        "    cudaMalloc(&d_b, size);\n",
        "    cudaMalloc(&d_c, sizeof(double));\n",
        " \n",
        "    int i;\n",
        "    for( i = 0; i < N; i++ ) {\n",
        "        a[i] = rand()%100000 + (1.0/(rand()%1000));\n",
        "        b[i] = 0;\n",
        "    }\n",
        " \n",
        "    // Copy host vectors to device\n",
        "    cudaMemcpy( d_a, a, size, cudaMemcpyHostToDevice);\n",
        "    cudaMemcpy( d_b, b, size, cudaMemcpyHostToDevice);\n",
        "\n",
        "    int tt[10] ={1,2,4,8,16,32,64,128,256,500}; \n",
        "    for(int t=0 ; t<10 ; ++t){\n",
        "        auto start = high_resolution_clock::now();\n",
        "        vecAdd<<<1, tt[t]>>>(d_a, d_b, d_c,tt[t]);\n",
        "        auto stop = high_resolution_clock::now(); \n",
        "        auto duration = duration_cast<microseconds>(stop - start); \n",
        "        cout << \"Time taken by function: \"<< duration.count() << \" microseconds\" << endl; \n",
        "    }\n",
        "    cudaMemcpy( c, d_c, sizeof(double), cudaMemcpyDeviceToHost );\n",
        " \n",
        "    /*for(i=0; i<N; i++)\n",
        "      printf(\"%lf \",a[i]);\n",
        "    cout<<endl;\n",
        "    for(i=0; i<N; i++)\n",
        "      printf(\"%lf \",b[i]);\n",
        "    cout<<endl;\n",
        "    cout<<*c<<endl;*/\n",
        "\n",
        "    cudaFree(d_a);cudaFree(d_b);cudaFree(d_c);\n",
        "    free(a);free(b);free(c);\n",
        " \n",
        "    return 0;\n",
        "}"
      ],
      "execution_count": null,
      "outputs": [
        {
          "output_type": "stream",
          "text": [
            "Time taken by function: 14 microseconds\n",
            "Time taken by function: 7 microseconds\n",
            "Time taken by function: 4 microseconds\n",
            "Time taken by function: 5 microseconds\n",
            "Time taken by function: 4 microseconds\n",
            "Time taken by function: 5 microseconds\n",
            "Time taken by function: 4 microseconds\n",
            "Time taken by function: 5 microseconds\n",
            "Time taken by function: 4 microseconds\n",
            "Time taken by function: 4 microseconds\n",
            "\n"
          ],
          "name": "stdout"
        }
      ]
    },
    {
      "cell_type": "code",
      "metadata": {
        "id": "-4IxSInBO6ve",
        "outputId": "93ae3a5c-b9e9-4b5c-91a6-83f97fd7117e",
        "colab": {
          "base_uri": "https://localhost:8080/"
        }
      },
      "source": [
        "%%cu\n",
        "#include <stdio.h>\n",
        "#include <stdlib.h>\n",
        "#include <math.h>\n",
        "#include<bits/stdc++.h>\n",
        "#include<chrono> \n",
        "using namespace std::chrono; \n",
        "using namespace std;\n",
        "#define N 4\n",
        "#define M 2\n",
        "__global__ void vecAdd(double *a, double *b, double *c,int th){\n",
        "    int id = threadIdx.x;\n",
        "    __shared__ double temp[N];\n",
        "    for(int i=id ; i<N ; i+=th){\n",
        "        temp[i] = a[i] * b[i];\n",
        "    }  \n",
        "    __syncthreads(); \n",
        "    if(id==0){\n",
        "        double sum = 0;\n",
        "        for(int i=0 ; i<N ; ++i){\n",
        "            sum+=temp[i];\n",
        "        }\n",
        "        *c = sum;\n",
        "    }\n",
        "}\n",
        " \n",
        "int main( int argc, char* argv[] ){\n",
        "    double *a,*b,*c;\n",
        "    double *d_a,*d_b,*d_c;\n",
        " \n",
        "    size_t size = N*sizeof(double);\n",
        "\n",
        "    a = (double*)malloc(size);\n",
        "    b = (double*)malloc(size);\n",
        "    c = (double*)malloc(sizeof(double));\n",
        "\n",
        "    cudaMalloc(&d_a, size);\n",
        "    cudaMalloc(&d_b, size);\n",
        "    cudaMalloc(&d_c, sizeof(double));\n",
        " \n",
        "    int i;\n",
        "    for( i = 0; i < N; i++ ) {\n",
        "        /*a[i] = rand()%100000 + (1.0/(rand()%1000));\n",
        "        b[i] = rand()%100000 + (1.0/(rand()%1000));*/\n",
        "        a[i] = rand()%10;\n",
        "        b[i] = rand()%10;\n",
        "    }\n",
        " \n",
        "    // Copy host vectors to device\n",
        "    cudaMemcpy( d_a, a, size, cudaMemcpyHostToDevice);\n",
        "    cudaMemcpy( d_b, b, size, cudaMemcpyHostToDevice);\n",
        "\n",
        "    int tt[10] ={1,2,4,8,16,32,64,128,256,500}; \n",
        "    for(int t=0 ; t<10 ; ++t){\n",
        "        auto start = high_resolution_clock::now();\n",
        "        vecAdd<<<1, tt[t]>>>(d_a, d_b, d_c,tt[t]);\n",
        "        auto stop = high_resolution_clock::now(); \n",
        "        auto duration = duration_cast<microseconds>(stop - start); \n",
        "        cout << \"Time taken by function: \"<< duration.count() << \" microseconds\" << endl; \n",
        "    }\n",
        "    \n",
        "    cudaMemcpy( c, d_c, sizeof(double), cudaMemcpyDeviceToHost );\n",
        " \n",
        "    /*for(i=0; i<N; i++)\n",
        "      printf(\"%lf \",a[i]);\n",
        "    cout<<endl;\n",
        "    for(i=0; i<N; i++)\n",
        "      printf(\"%lf \",b[i]);\n",
        "    cout<<endl;\n",
        "    cout<<*c<<endl;*/\n",
        "\n",
        "    cudaFree(d_a);cudaFree(d_b);cudaFree(d_c);\n",
        "    free(a);free(b);free(c);\n",
        " \n",
        "    return 0;\n",
        "}"
      ],
      "execution_count": null,
      "outputs": [
        {
          "output_type": "stream",
          "text": [
            "Time taken by function: 13 microseconds\n",
            "Time taken by function: 6 microseconds\n",
            "Time taken by function: 5 microseconds\n",
            "Time taken by function: 5 microseconds\n",
            "Time taken by function: 4 microseconds\n",
            "Time taken by function: 4 microseconds\n",
            "Time taken by function: 4 microseconds\n",
            "Time taken by function: 4 microseconds\n",
            "Time taken by function: 5 microseconds\n",
            "Time taken by function: 5 microseconds\n",
            "\n"
          ],
          "name": "stdout"
        }
      ]
    },
    {
      "cell_type": "code",
      "metadata": {
        "id": "wWrwX6qnaHt-"
      },
      "source": [
        ""
      ],
      "execution_count": null,
      "outputs": []
    }
  ]
}