{
 "cells": [
  {
   "cell_type": "code",
   "execution_count": 198,
   "metadata": {},
   "outputs": [],
   "source": [
    "import matplotlib.pyplot as plt\n",
    "import cv2\n",
    "import numpy as np\n",
    "import math"
   ]
  },
  {
   "cell_type": "code",
   "execution_count": 199,
   "metadata": {},
   "outputs": [
    {
     "data": {
      "text/plain": [
       "Text(0.5, 1.0, 'initial polygon')"
      ]
     },
     "execution_count": 199,
     "metadata": {},
     "output_type": "execute_result"
    },
    {
     "data": {
      "image/png": "[encoded data removed]",
      "text/plain": [
       "<Figure size 432x288 with 1 Axes>"
      ]
     },
     "metadata": {
      "needs_background": "light"
     },
     "output_type": "display_data"
    }
   ],
   "source": [
    "background = np.zeros((1000, 1000, 3), dtype = \"uint8\")\n",
    "# c = [300,200]\n",
    "pts = [[50,200],[200,50],[350,200],[350,400],[50,400]]\n",
    "pts = np.array(pts)\n",
    "# cv2.polylines argument - (background,point,isClosed,color, thickness)\n",
    "image = cv2.polylines(background,[pts],  True, (0,255,0),  2)\n",
    "plt.imshow(image)\n",
    "plt.title(\"initial polygon\")"
   ]
  },
  {
   "cell_type": "code",
   "execution_count": 200,
   "metadata": {},
   "outputs": [],
   "source": [
    "def translate(a,b):\n",
    "    for i in range(len(pts)):\n",
    "        pts[i][0] += a\n",
    "        pts[i][1] += b\n",
    "    return pts"
   ]
  },
  {
   "cell_type": "code",
   "execution_count": 201,
   "metadata": {},
   "outputs": [],
   "source": [
    "def draw_polygon(img):\n",
    "    color = (255, 0, 0)\n",
    "    background = np.zeros((1000, 1000, 3), dtype = \"uint8\")\n",
    "    image = cv2.polylines(background,[img],  True, (255,0,0),  2)\n",
    "    plt.imshow(image)"
   ]
  },
  {
   "cell_type": "code",
   "execution_count": 202,
   "metadata": {},
   "outputs": [],
   "source": [
    "def find_center(img):\n",
    "    maxx=img[0][0]\n",
    "    maxy=img[0][1]\n",
    "    minx=img[0][0]\n",
    "    miny=img[0][1]\n",
    "    for i in img:\n",
    "        maxx=max(maxx,i[0])\n",
    "        maxy=max(maxy,i[1])\n",
    "        minx=min(minx,i[0])\n",
    "        miny=min(miny,i[1])\n",
    "    return [(minx+maxx)/2,(miny+maxy)/2]"
   ]
  },
  {
   "cell_type": "code",
   "execution_count": 203,
   "metadata": {},
   "outputs": [],
   "source": [
    "def scale_image(factor):\n",
    "    cx,cy=find_center(pts)\n",
    "    translate(-cx,-cy)\n",
    "    for i in range(len(pts)):\n",
    "        pts[i][0] *= factor\n",
    "        pts[i][1] *= factor\n",
    "    translate(cx,cy)"
   ]
  },
  {
   "cell_type": "code",
   "execution_count": 204,
   "metadata": {},
   "outputs": [],
   "source": [
    "#     To rotate point p1 = (x1, y1) around p (x0, y0) by angle a:\n",
    "def rotate_image(deg):\n",
    "    cx,cy = find_center(pts)\n",
    "    translate(-cx,-cy)\n",
    "    for i in range(len(pts)):\n",
    "        tempx = pts[i][0]\n",
    "        tempy = pts[i][1]\n",
    "        pts[i][0] = tempx*math.cos((math.pi/180)*deg) - tempy*math.sin((math.pi/180)*deg)\n",
    "        pts[i][1] = tempy*math.cos((math.pi/180)*deg) + tempx*math.sin((math.pi/180)*deg)\n",
    "    translate(cx,cy)"
   ]
  },
  {
   "cell_type": "code",
   "execution_count": 206,
   "metadata": {},
   "outputs": [
    {
     "data": {
      "image/png": "[encoded data removed]",
      "text/plain": [
       "<Figure size 432x288 with 1 Axes>"
      ]
     },
     "metadata": {
      "needs_background": "light"
     },
     "output_type": "display_data"
    }
   ],
   "source": [
    "translate(200,200)\n",
    "draw_polygon(pts)"
   ]
  },
  {
   "cell_type": "code",
   "execution_count": 211,
   "metadata": {},
   "outputs": [
    {
     "data": {
      "image/png": "[encoded data removed]",
      "text/plain": [
       "<Figure size 432x288 with 1 Axes>"
      ]
     },
     "metadata": {
      "needs_background": "light"
     },
     "output_type": "display_data"
    }
   ],
   "source": [
    "scale_image(1.5)\n",
    "draw_polygon(pts)"
   ]
  },
  {
   "cell_type": "code",
   "execution_count": 212,
   "metadata": {},
   "outputs": [
    {
     "data": {
      "image/png": "[encoded data removed]",
      "text/plain": [
       "<Figure size 432x288 with 1 Axes>"
      ]
     },
     "metadata": {
      "needs_background": "light"
     },
     "output_type": "display_data"
    }
   ],
   "source": [
    "rotate_image(30)\n",
    "draw_polygon(pts)"
   ]
  },
  {
   "cell_type": "code",
   "execution_count": null,
   "metadata": {},
   "outputs": [],
   "source": []
  },
  {
   "cell_type": "code",
   "execution_count": null,
   "metadata": {},
   "outputs": [],
   "source": []
  },
  {
   "cell_type": "code",
   "execution_count": null,
   "metadata": {},
   "outputs": [],
   "source": []
  },
  {
   "cell_type": "code",
   "execution_count": null,
   "metadata": {},
   "outputs": [],
   "source": []
  },
  {
   "cell_type": "code",
   "execution_count": null,
   "metadata": {},
   "outputs": [],
   "source": []
  },
  {
   "cell_type": "code",
   "execution_count": null,
   "metadata": {},
   "outputs": [],
   "source": []
  },
  {
   "cell_type": "code",
   "execution_count": null,
   "metadata": {},
   "outputs": [],
   "source": []
  },
  {
   "cell_type": "code",
   "execution_count": null,
   "metadata": {},
   "outputs": [],
   "source": [
    "\n"
   ]
  },
  {
   "cell_type": "code",
   "execution_count": null,
   "metadata": {},
   "outputs": [],
   "source": []
  },
  {
   "cell_type": "code",
   "execution_count": null,
   "metadata": {},
   "outputs": [],
   "source": []
  }
 ],
 "metadata": {
  "kernelspec": {
   "display_name": "Python 3",
   "language": "python",
   "name": "python3"
  },
  "language_info": {
   "codemirror_mode": {
    "name": "ipython",
    "version": 3
   },
   "file_extension": ".py",
   "mimetype": "text/x-python",
   "name": "python",
   "nbconvert_exporter": "python",
   "pygments_lexer": "ipython3",
   "version": "3.8.5"
  }
 },
 "nbformat": 4,
 "nbformat_minor": 4
}
