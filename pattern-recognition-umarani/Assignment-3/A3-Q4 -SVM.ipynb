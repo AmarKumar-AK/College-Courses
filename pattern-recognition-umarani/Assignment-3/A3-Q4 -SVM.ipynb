{
 "cells": [
  {
   "cell_type": "code",
   "execution_count": 1,
   "metadata": {},
   "outputs": [],
   "source": [
    "import numpy as np\n",
    "import matplotlib.pyplot as plt\n",
    "feat_mat = [[2,2],[-1,-3],[-1,2],[0,-1],[1,3],[-1,-2],[1,-2],[-1,-1]]\n",
    "y = [[1],[0],[1],[0],[1],[0],[0],[1]]\n",
    "from sklearn import datasets\n",
    "ds = datasets.load_iris()\n",
    "X_measure = ds.data[0:100,1:3]\n",
    "y_flower = datasets.load_iris().target[0:100]\n",
    "feat_mat = X_measure\n",
    "y = y_flower"
   ]
  },
  {
   "cell_type": "code",
   "execution_count": 2,
   "metadata": {},
   "outputs": [],
   "source": [
    "X=np.array(feat_mat)\n",
    "y=np.array(y)\n",
    "y=y.reshape(-1,1)"
   ]
  },
  {
   "cell_type": "code",
   "execution_count": 3,
   "metadata": {
    "scrolled": true
   },
   "outputs": [
    {
     "name": "stdout",
     "output_type": "stream",
     "text": [
      "(100, 1)\n"
     ]
    },
    {
     "data": {
      "image/png": "[encoded data removed]",
      "text/plain": [
       "<Figure size 432x288 with 1 Axes>"
      ]
     },
     "metadata": {
      "needs_background": "light"
     },
     "output_type": "display_data"
    }
   ],
   "source": [
    "plt.scatter(X[:,0],X[:,1])\n",
    "print(y.shape)"
   ]
  },
  {
   "cell_type": "code",
   "execution_count": 4,
   "metadata": {},
   "outputs": [],
   "source": [
    "X=np.append(np.ones(y.shape),X,1)\n",
    "for i in range(0,y.shape[0]):\n",
    "    if(y[i][0])==0:\n",
    "        X[i][0]=X[i][0]*-1\n",
    "        X[i][1]=X[i][1]*-1\n",
    "        X[i][2]*=-1"
   ]
  },
  {
   "cell_type": "code",
   "execution_count": 5,
   "metadata": {
    "scrolled": false
   },
   "outputs": [
    {
     "name": "stdout",
     "output_type": "stream",
     "text": [
      "[[-1.  -3.5 -1.4]\n",
      " [-1.  -3.  -1.4]\n",
      " [-1.  -3.2 -1.3]\n",
      " [-1.  -3.1 -1.5]\n",
      " [-1.  -3.6 -1.4]\n",
      " [-1.  -3.9 -1.7]\n",
      " [-1.  -3.4 -1.4]\n",
      " [-1.  -3.4 -1.5]\n",
      " [-1.  -2.9 -1.4]\n",
      " [-1.  -3.1 -1.5]\n",
      " [-1.  -3.7 -1.5]\n",
      " [-1.  -3.4 -1.6]\n",
      " [-1.  -3.  -1.4]\n",
      " [-1.  -3.  -1.1]\n",
      " [-1.  -4.  -1.2]\n",
      " [-1.  -4.4 -1.5]\n",
      " [-1.  -3.9 -1.3]\n",
      " [-1.  -3.5 -1.4]\n",
      " [-1.  -3.8 -1.7]\n",
      " [-1.  -3.8 -1.5]\n",
      " [-1.  -3.4 -1.7]\n",
      " [-1.  -3.7 -1.5]\n",
      " [-1.  -3.6 -1. ]\n",
      " [-1.  -3.3 -1.7]\n",
      " [-1.  -3.4 -1.9]\n",
      " [-1.  -3.  -1.6]\n",
      " [-1.  -3.4 -1.6]\n",
      " [-1.  -3.5 -1.5]\n",
      " [-1.  -3.4 -1.4]\n",
      " [-1.  -3.2 -1.6]\n",
      " [-1.  -3.1 -1.6]\n",
      " [-1.  -3.4 -1.5]\n",
      " [-1.  -4.1 -1.5]\n",
      " [-1.  -4.2 -1.4]\n",
      " [-1.  -3.1 -1.5]\n",
      " [-1.  -3.2 -1.2]\n",
      " [-1.  -3.5 -1.3]\n",
      " [-1.  -3.6 -1.4]\n",
      " [-1.  -3.  -1.3]\n",
      " [-1.  -3.4 -1.5]\n",
      " [-1.  -3.5 -1.3]\n",
      " [-1.  -2.3 -1.3]\n",
      " [-1.  -3.2 -1.3]\n",
      " [-1.  -3.5 -1.6]\n",
      " [-1.  -3.8 -1.9]\n",
      " [-1.  -3.  -1.4]\n",
      " [-1.  -3.8 -1.6]\n",
      " [-1.  -3.2 -1.4]\n",
      " [-1.  -3.7 -1.5]\n",
      " [-1.  -3.3 -1.4]\n",
      " [ 1.   3.2  4.7]\n",
      " [ 1.   3.2  4.5]\n",
      " [ 1.   3.1  4.9]\n",
      " [ 1.   2.3  4. ]\n",
      " [ 1.   2.8  4.6]\n",
      " [ 1.   2.8  4.5]\n",
      " [ 1.   3.3  4.7]\n",
      " [ 1.   2.4  3.3]\n",
      " [ 1.   2.9  4.6]\n",
      " [ 1.   2.7  3.9]\n",
      " [ 1.   2.   3.5]\n",
      " [ 1.   3.   4.2]\n",
      " [ 1.   2.2  4. ]\n",
      " [ 1.   2.9  4.7]\n",
      " [ 1.   2.9  3.6]\n",
      " [ 1.   3.1  4.4]\n",
      " [ 1.   3.   4.5]\n",
      " [ 1.   2.7  4.1]\n",
      " [ 1.   2.2  4.5]\n",
      " [ 1.   2.5  3.9]\n",
      " [ 1.   3.2  4.8]\n",
      " [ 1.   2.8  4. ]\n",
      " [ 1.   2.5  4.9]\n",
      " [ 1.   2.8  4.7]\n",
      " [ 1.   2.9  4.3]\n",
      " [ 1.   3.   4.4]\n",
      " [ 1.   2.8  4.8]\n",
      " [ 1.   3.   5. ]\n",
      " [ 1.   2.9  4.5]\n",
      " [ 1.   2.6  3.5]\n",
      " [ 1.   2.4  3.8]\n",
      " [ 1.   2.4  3.7]\n",
      " [ 1.   2.7  3.9]\n",
      " [ 1.   2.7  5.1]\n",
      " [ 1.   3.   4.5]\n",
      " [ 1.   3.4  4.5]\n",
      " [ 1.   3.1  4.7]\n",
      " [ 1.   2.3  4.4]\n",
      " [ 1.   3.   4.1]\n",
      " [ 1.   2.5  4. ]\n",
      " [ 1.   2.6  4.4]\n",
      " [ 1.   3.   4.6]\n",
      " [ 1.   2.6  4. ]\n",
      " [ 1.   2.3  3.3]\n",
      " [ 1.   2.7  4.2]\n",
      " [ 1.   3.   4.2]\n",
      " [ 1.   2.9  4.2]\n",
      " [ 1.   2.9  4.3]\n",
      " [ 1.   2.5  3. ]\n",
      " [ 1.   2.8  4.1]]\n"
     ]
    },
    {
     "data": {
      "image/png": "[encoded data removed]",
      "text/plain": [
       "<Figure size 432x288 with 1 Axes>"
      ]
     },
     "metadata": {
      "needs_background": "light"
     },
     "output_type": "display_data"
    }
   ],
   "source": [
    "plt.scatter(X[:,0],X[:,1])\n",
    "print(X)"
   ]
  },
  {
   "cell_type": "code",
   "execution_count": 6,
   "metadata": {},
   "outputs": [
    {
     "name": "stderr",
     "output_type": "stream",
     "text": [
      "c:\\users\\jason\\appdata\\local\\programs\\python\\python38\\lib\\site-packages\\sklearn\\utils\\validation.py:73: DataConversionWarning: A column-vector y was passed when a 1d array was expected. Please change the shape of y to (n_samples, ), for example using ravel().\n",
      "  return f(**kwargs)\n"
     ]
    },
    {
     "data": {
      "text/plain": [
       "<matplotlib.collections.PathCollection at 0x28043938b80>"
      ]
     },
     "execution_count": 6,
     "metadata": {},
     "output_type": "execute_result"
    },
    {
     "data": {
      "image/png": "[encoded data removed]",
      "text/plain": [
       "<Figure size 432x288 with 1 Axes>"
      ]
     },
     "metadata": {
      "needs_background": "light"
     },
     "output_type": "display_data"
    }
   ],
   "source": [
    "from sklearn.linear_model import SGDClassifier\n",
    "clf = SGDClassifier(loss = \"hinge\" , penalty =\"l2\",max_iter = 1000)\n",
    "tmp=np.array(feat_mat)\n",
    "clf.fit(tmp,y)\n",
    "W = clf.coef_\n",
    "w = clf.coef_[0]\n",
    "a = -w[0] / w[1]\n",
    "xx = np.linspace(2, 5)\n",
    "yy = a * xx - (clf.intercept_[0]) / w[1]\n",
    "plt.figure()\n",
    "plt.plot(xx, yy, 'k-')\n",
    "plt.scatter(tmp[:,0],tmp[:,1])"
   ]
  }
 ],
 "metadata": {
  "kernelspec": {
   "display_name": "Python 3",
   "language": "python",
   "name": "python3"
  },
  "language_info": {
   "codemirror_mode": {
    "name": "ipython",
    "version": 3
   },
   "file_extension": ".py",
   "mimetype": "text/x-python",
   "name": "python",
   "nbconvert_exporter": "python",
   "pygments_lexer": "ipython3",
   "version": "3.8.0"
  }
 },
 "nbformat": 4,
 "nbformat_minor": 4
}
